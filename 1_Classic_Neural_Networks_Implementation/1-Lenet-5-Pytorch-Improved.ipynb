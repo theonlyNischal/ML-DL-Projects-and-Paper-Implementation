{
  "cells": [
    {
      "cell_type": "markdown",
      "metadata": {
        "id": "view-in-github",
        "colab_type": "text"
      },
      "source": [
        "<a href=\"https://colab.research.google.com/github/theonlyNischal/ML-DL-Projects-and-Paper-Implementation/blob/master/1_Classic_Neural_Networks_Implementation/1-Lenet-5-Pytorch-Improved.ipynb\" target=\"_parent\"><img src=\"https://colab.research.google.com/assets/colab-badge.svg\" alt=\"Open In Colab\"/></a>"
      ]
    },
    {
      "cell_type": "code",
      "execution_count": null,
      "id": "9f2443db",
      "metadata": {
        "id": "9f2443db"
      },
      "outputs": [],
      "source": []
    },
    {
      "cell_type": "markdown",
      "source": [
        "Today, we will implement the classical LeNet-5 architecture in Pytorch. In LeNet-5, 5 means there are 5 learned layers, 2 of them are convolutional layer and remaining 3 are dense/linear layer.\n",
        "\n",
        "We will give modern improvements to the classical architecture, such as using\n",
        "\n",
        "- Using max-pooling or ReLUs instead of average pooling.\n",
        "- Using softmax instead of RBF-based classification\n",
        "\n",
        "\n",
        "https://d2l.ai/_images/lenet.svg\n",
        "\n",
        "Fig: Architecture of LeNet-5. Input is a handwritten digit, the output is a probability over 10 possible outcomes.\n"
      ],
      "metadata": {
        "id": "nV4zk8FBC1xo"
      },
      "id": "nV4zk8FBC1xo"
    },
    {
      "cell_type": "code",
      "source": [
        "class ClassicLeNet5(nn.Module):\n",
        "    def __init__(self, num_classes=10):\n",
        "        super(ClassicLenet5).__init__()\n",
        "\n",
        "        # convolutional layers\n",
        "        self.conv1 = nn.Conv2d(\n",
        "            in_channels=1,\n",
        "            out_channels=6,\n",
        "            kernel_size=5,\n",
        "            padding=0\n",
        "        )\n",
        "        self.conv2 = nn.Conv2d(\n",
        "            in_channels=6,\n",
        "            out_channels=16,\n",
        "            kernel_size=5\n",
        "        )\n",
        "        self.pool = nn.AvgPool2d(kernel_size=2, stride=2)\n",
        "\n",
        "        # FC layers\n",
        "        self.fc1 = nn.Linear(16*5*5, 120)\n",
        "        self.fc2 = nn.Linear(120,84)\n",
        "        self.fc3 = nn.Linear(84, 10)\n",
        "\n",
        "    def forward(self, x):\n",
        "        x = self.conv1(x)\n",
        "        x = torch.tanh(x)\n",
        "        x = self.pool(x)\n",
        "\n",
        "        x = self.conv2(x)\n",
        "        x = torch.tanh(x)\n",
        "        x = self.pool(x)\n",
        "\n",
        "        # Flatten\n",
        "        x = x.view(x.size(0), -1)\n",
        "\n",
        "\n",
        "        # FC Layers\n",
        "        x = torch.tanh(self.fc1(x))\n",
        "        x = torch.tanh(self.fc2(x))\n",
        "        x = self.fc3(x)\n",
        "\n",
        "        return x"
      ],
      "metadata": {
        "id": "Q6nK5WdoDikf"
      },
      "id": "Q6nK5WdoDikf",
      "execution_count": 1,
      "outputs": []
    },
    {
      "cell_type": "code",
      "source": [],
      "metadata": {
        "id": "NS4UwVrnDiiY"
      },
      "id": "NS4UwVrnDiiY",
      "execution_count": null,
      "outputs": []
    },
    {
      "cell_type": "code",
      "source": [],
      "metadata": {
        "id": "PoYzGRwjDMPT"
      },
      "id": "PoYzGRwjDMPT",
      "execution_count": null,
      "outputs": []
    },
    {
      "cell_type": "markdown",
      "source": [
        "Let's implement modern version of Lenet-5 for MNIST.\n"
      ],
      "metadata": {
        "id": "dUxgMMRikPym"
      },
      "id": "dUxgMMRikPym"
    },
    {
      "cell_type": "code",
      "source": [
        "import os\n",
        "\n",
        "import numpy as np\n",
        "import matplotlib.pyplot as plt\n",
        "\n",
        "import torch\n",
        "import torch.nn as nn\n",
        "import torch.nn.functional as F\n",
        "import torch.optim as optim\n",
        "from torchvision import datasets, transforms\n",
        "from torch.utils.data.sampler import SubsetRandomSampler\n",
        "\n",
        "\n"
      ],
      "metadata": {
        "id": "_ehKODGukj1M"
      },
      "id": "_ehKODGukj1M",
      "execution_count": 2,
      "outputs": []
    },
    {
      "cell_type": "code",
      "source": [
        "# Set random seeds for reproducibility\n",
        "torch.manual_seed(42)\n",
        "np.random.seed(42)"
      ],
      "metadata": {
        "id": "go5dXnBBk2da"
      },
      "id": "go5dXnBBk2da",
      "execution_count": 3,
      "outputs": []
    },
    {
      "cell_type": "code",
      "source": [
        "# Data directory\n",
        "data_dir = os.path.join(os.getcwd(), \"data\", \"MNIST\")"
      ],
      "metadata": {
        "id": "0ESFQQAPk8xa"
      },
      "id": "0ESFQQAPk8xa",
      "execution_count": 4,
      "outputs": []
    },
    {
      "cell_type": "code",
      "source": [
        "# Calculate data statistics\n",
        "temp_data = datasets.MNIST(data_dir, train=True, download=True)\n",
        "mean = temp_data.data.float().mean() / 255\n",
        "std = temp_data.data.float().std() / 255\n",
        "print(f\"Dataset mean: {mean:.4f}, std: {std:.4f}\")"
      ],
      "metadata": {
        "id": "S9z_A3AClBnX",
        "outputId": "64222776-dabb-406c-cde7-ec6cfa476b25",
        "colab": {
          "base_uri": "https://localhost:8080/"
        }
      },
      "id": "S9z_A3AClBnX",
      "execution_count": 5,
      "outputs": [
        {
          "output_type": "stream",
          "name": "stderr",
          "text": [
            "100%|██████████| 9.91M/9.91M [00:00<00:00, 17.9MB/s]\n",
            "100%|██████████| 28.9k/28.9k [00:00<00:00, 491kB/s]\n",
            "100%|██████████| 1.65M/1.65M [00:00<00:00, 4.58MB/s]\n",
            "100%|██████████| 4.54k/4.54k [00:00<00:00, 7.78MB/s]\n"
          ]
        },
        {
          "output_type": "stream",
          "name": "stdout",
          "text": [
            "Dataset mean: 0.1307, std: 0.3081\n"
          ]
        }
      ]
    },
    {
      "cell_type": "code",
      "source": [
        "# Define transforms\n",
        "\n",
        "train_transform = transforms.Compose([\n",
        "    transforms.RandomRotation(5, fill=(0,)),\n",
        "    transforms.RandomCrop(28, padding=2),\n",
        "    transforms.ToTensor(),\n",
        "    transforms.Normalize(mean=[mean], std=[std])\n",
        "    ])\n",
        "\n",
        "# Test transforms should be deterministic\n",
        "test_transform = transforms.Compose([\n",
        "    transforms.ToTensor(),\n",
        "    transforms.Normalize(mean=[mean], std=[std])\n",
        "])"
      ],
      "metadata": {
        "id": "uZPexqoZlW_t"
      },
      "id": "uZPexqoZlW_t",
      "execution_count": 6,
      "outputs": []
    },
    {
      "cell_type": "code",
      "source": [
        "# Load datasets\n",
        "train_data = datasets.MNIST(data_dir, train=True, download=True, transform=train_transform)\n",
        "test_data = datasets.MNIST(data_dir, train=False, download=True, transform=test_transform)\n"
      ],
      "metadata": {
        "id": "T0CYLMMolr0J"
      },
      "id": "T0CYLMMolr0J",
      "execution_count": 7,
      "outputs": []
    },
    {
      "cell_type": "code",
      "source": [
        "\n",
        "# Create train/validation split\n",
        "batch_size = 64  # Increased batch size for better training stability\n",
        "valid_size = 0.10\n",
        "\n",
        "num_train = len(train_data)\n",
        "split_point = int(valid_size * num_train)\n",
        "\n",
        "indices = list(range(num_train))\n",
        "np.random.shuffle(indices)\n",
        "\n",
        "train_indices = indices[split_point:]\n",
        "valid_indices = indices[:split_point]\n",
        "\n",
        "train_sampler = SubsetRandomSampler(train_indices)\n",
        "valid_sampler = SubsetRandomSampler(valid_indices)\n",
        "\n",
        "# Create data loaders\n",
        "train_loader = torch.utils.data.DataLoader(train_data, batch_size=batch_size, sampler=train_sampler)\n",
        "valid_loader = torch.utils.data.DataLoader(train_data, batch_size=batch_size, sampler=valid_sampler)\n",
        "test_loader = torch.utils.data.DataLoader(test_data, batch_size=batch_size, shuffle=False)  # No shuffle for test\n"
      ],
      "metadata": {
        "id": "J0Aln8Krl-Yz"
      },
      "id": "J0Aln8Krl-Yz",
      "execution_count": 8,
      "outputs": []
    },
    {
      "cell_type": "code",
      "source": [
        "\n",
        "class ImprovedLeNet5(nn.Module):\n",
        "    \"\"\"\n",
        "    Improved LeNet-5 implementation with proper activation placement\n",
        "    and closer adherence to the original architecture\n",
        "    \"\"\"\n",
        "    def __init__(self, num_classes=10):\n",
        "        super(ImprovedLeNet5, self).__init__()\n",
        "\n",
        "        # Convolutional layers\n",
        "        self.conv1 = nn.Conv2d(in_channels=1, out_channels=6, kernel_size=5, padding=2)  # Added padding\n",
        "        self.conv2 = nn.Conv2d(in_channels=6, out_channels=16, kernel_size=5)\n",
        "\n",
        "        # Pooling layer\n",
        "        self.pool = nn.MaxPool2d(kernel_size=2, stride=2)\n",
        "\n",
        "        # Fully connected layers\n",
        "        self.fc1 = nn.Linear(16 * 5 * 5, 120)  # Corrected input size\n",
        "        self.fc2 = nn.Linear(120, 84)\n",
        "        self.fc3 = nn.Linear(84, num_classes)\n",
        "\n",
        "        # Dropout for regularization\n",
        "        self.dropout = nn.Dropout(0.5)\n",
        "\n",
        "    def forward(self, x):\n",
        "        # First convolutional block\n",
        "        x = self.conv1(x)           # 28x28x1 -> 28x28x6 (with padding)\n",
        "        x = F.relu(x)               # Apply activation BEFORE pooling\n",
        "        x = self.pool(x)            # 28x28x6 -> 14x14x6\n",
        "\n",
        "        # Second convolutional block\n",
        "        x = self.conv2(x)           # 14x14x6 -> 10x10x16\n",
        "        x = F.relu(x)               # Apply activation BEFORE pooling\n",
        "        x = self.pool(x)            # 10x10x16 -> 5x5x16\n",
        "\n",
        "        # Flatten for fully connected layers\n",
        "        x = x.view(x.size(0), -1)   # Flatten: 5x5x16 = 400\n",
        "\n",
        "        # Fully connected layers\n",
        "        x = F.relu(self.fc1(x))\n",
        "        x = self.dropout(x)         # Add dropout for regularization\n",
        "        x = F.relu(self.fc2(x))\n",
        "        x = self.dropout(x)\n",
        "        x = self.fc3(x)             # NO activation on final layer (logits for CrossEntropy)\n",
        "\n",
        "        return x\n",
        "\n",
        "# Initialize model\n",
        "model = ImprovedLeNet5(num_classes=10)\n",
        "\n",
        "def count_parameters(model):\n",
        "    return sum(p.numel() for p in model.parameters() if p.requires_grad)\n",
        "\n",
        "print(f\"Model has {count_parameters(model):,} trainable parameters\")\n"
      ],
      "metadata": {
        "id": "7SN8ogb9mFIY",
        "outputId": "7c118a0e-152b-4f4c-86cd-fc4cafd60ef1",
        "colab": {
          "base_uri": "https://localhost:8080/"
        }
      },
      "id": "7SN8ogb9mFIY",
      "execution_count": 9,
      "outputs": [
        {
          "output_type": "stream",
          "name": "stdout",
          "text": [
            "Model has 61,706 trainable parameters\n"
          ]
        }
      ]
    },
    {
      "cell_type": "code",
      "source": [
        "# Check for GPU\n",
        "device = torch.device('cuda' if torch.cuda.is_available() else 'cpu')\n",
        "model = model.to(device)\n",
        "print(f\"Training on: {device}\")"
      ],
      "metadata": {
        "id": "UTIwCRZfmF-g",
        "outputId": "8d8fce7b-d38c-40a2-92ee-1c3fcd5a9219",
        "colab": {
          "base_uri": "https://localhost:8080/"
        }
      },
      "id": "UTIwCRZfmF-g",
      "execution_count": 10,
      "outputs": [
        {
          "output_type": "stream",
          "name": "stdout",
          "text": [
            "Training on: cuda\n"
          ]
        }
      ]
    },
    {
      "cell_type": "code",
      "source": [
        "# Loss and optimizer\n",
        "criterion = nn.CrossEntropyLoss()\n",
        "optimizer = optim.Adam(model.parameters(), lr=0.001, weight_decay=1e-5)  # Added weight decay\n",
        "\n",
        "# Learning rate scheduler\n",
        "scheduler = optim.lr_scheduler.StepLR(optimizer, step_size=7, gamma=0.1)\n"
      ],
      "metadata": {
        "id": "wwWcmtnHmrT1"
      },
      "id": "wwWcmtnHmrT1",
      "execution_count": 11,
      "outputs": []
    },
    {
      "cell_type": "code",
      "source": [
        "def train_epoch(model, train_loader, criterion, optimizer, device):\n",
        "    \"\"\"Train for one epoch\"\"\"\n",
        "    model.train()\n",
        "    running_loss = 0.0\n",
        "    correct = 0\n",
        "    total = 0\n",
        "\n",
        "    for batch_idx, (data, target) in enumerate(train_loader):\n",
        "        data, target = data.to(device), target.to(device)\n",
        "\n",
        "        optimizer.zero_grad()\n",
        "        output = model(data)\n",
        "        loss = criterion(output, target)\n",
        "        loss.backward()\n",
        "        optimizer.step()\n",
        "\n",
        "        running_loss += loss.item()\n",
        "        pred = output.argmax(dim=1, keepdim=True)\n",
        "        correct += pred.eq(target.view_as(pred)).sum().item()\n",
        "        total += target.size(0)\n",
        "\n",
        "    return running_loss / len(train_loader), 100. * correct / total\n",
        "\n",
        "def validate_epoch(model, valid_loader, criterion, device):\n",
        "    \"\"\"Validate for one epoch\"\"\"\n",
        "    model.eval()  # Important: set to evaluation mode\n",
        "    running_loss = 0.0\n",
        "    correct = 0\n",
        "    total = 0\n",
        "\n",
        "    with torch.no_grad():  # Disable gradient computation for efficiency\n",
        "        for data, target in valid_loader:\n",
        "            data, target = data.to(device), target.to(device)\n",
        "\n",
        "            output = model(data)\n",
        "            loss = criterion(output, target)\n",
        "\n",
        "            running_loss += loss.item()\n",
        "            pred = output.argmax(dim=1, keepdim=True)\n",
        "            correct += pred.eq(target.view_as(pred)).sum().item()\n",
        "            total += target.size(0)\n",
        "\n",
        "    return running_loss / len(valid_loader), 100. * correct / total\n"
      ],
      "metadata": {
        "id": "zGpL8l8dmwai"
      },
      "id": "zGpL8l8dmwai",
      "execution_count": 12,
      "outputs": []
    },
    {
      "cell_type": "code",
      "source": [
        "# Training loop\n",
        "num_epochs = 15\n",
        "train_losses, train_accuracies = [], []\n",
        "valid_losses, valid_accuracies = [], []\n",
        "best_valid_loss = float('inf')\n",
        "\n",
        "print(\"Starting training...\")\n",
        "for epoch in range(num_epochs):\n",
        "    # Train\n",
        "    train_loss, train_acc = train_epoch(model, train_loader, criterion, optimizer, device)\n",
        "\n",
        "    # Validate\n",
        "    valid_loss, valid_acc = validate_epoch(model, valid_loader, criterion, device)\n",
        "\n",
        "    # Update learning rate\n",
        "    scheduler.step()\n",
        "\n",
        "    # Store metrics\n",
        "    train_losses.append(train_loss)\n",
        "    train_accuracies.append(train_acc)\n",
        "    valid_losses.append(valid_loss)\n",
        "    valid_accuracies.append(valid_acc)\n",
        "\n",
        "    print(f'Epoch {epoch+1:2d}/{num_epochs}: '\n",
        "          f'Train Loss: {train_loss:.4f}, Train Acc: {train_acc:.2f}% | '\n",
        "          f'Valid Loss: {valid_loss:.4f}, Valid Acc: {valid_acc:.2f}%')\n",
        "\n",
        "    # Save best model\n",
        "    if valid_loss < best_valid_loss:\n",
        "        best_valid_loss = valid_loss\n",
        "        torch.save(model.state_dict(), 'best_lenet5_model.pth')\n",
        "        print(f'  → New best model saved (Valid Loss: {valid_loss:.4f})')\n"
      ],
      "metadata": {
        "id": "HkNIFBR5m2cw",
        "outputId": "4e9682a4-d184-4351-c415-143773871d3a",
        "colab": {
          "base_uri": "https://localhost:8080/"
        }
      },
      "id": "HkNIFBR5m2cw",
      "execution_count": 13,
      "outputs": [
        {
          "output_type": "stream",
          "name": "stdout",
          "text": [
            "Starting training...\n",
            "Epoch  1/15: Train Loss: 0.6319, Train Acc: 79.49% | Valid Loss: 0.1519, Valid Acc: 95.17%\n",
            "  → New best model saved (Valid Loss: 0.1519)\n",
            "Epoch  2/15: Train Loss: 0.2479, Train Acc: 93.18% | Valid Loss: 0.1213, Valid Acc: 96.27%\n",
            "  → New best model saved (Valid Loss: 0.1213)\n",
            "Epoch  3/15: Train Loss: 0.1939, Train Acc: 94.68% | Valid Loss: 0.0907, Valid Acc: 97.12%\n",
            "  → New best model saved (Valid Loss: 0.0907)\n",
            "Epoch  4/15: Train Loss: 0.1586, Train Acc: 95.64% | Valid Loss: 0.0792, Valid Acc: 97.63%\n",
            "  → New best model saved (Valid Loss: 0.0792)\n",
            "Epoch  5/15: Train Loss: 0.1409, Train Acc: 96.14% | Valid Loss: 0.0788, Valid Acc: 97.68%\n",
            "  → New best model saved (Valid Loss: 0.0788)\n",
            "Epoch  6/15: Train Loss: 0.1342, Train Acc: 96.45% | Valid Loss: 0.0641, Valid Acc: 98.10%\n",
            "  → New best model saved (Valid Loss: 0.0641)\n",
            "Epoch  7/15: Train Loss: 0.1260, Train Acc: 96.55% | Valid Loss: 0.0638, Valid Acc: 98.18%\n",
            "  → New best model saved (Valid Loss: 0.0638)\n",
            "Epoch  8/15: Train Loss: 0.1005, Train Acc: 97.31% | Valid Loss: 0.0538, Valid Acc: 98.25%\n",
            "  → New best model saved (Valid Loss: 0.0538)\n",
            "Epoch  9/15: Train Loss: 0.0928, Train Acc: 97.47% | Valid Loss: 0.0526, Valid Acc: 98.37%\n",
            "  → New best model saved (Valid Loss: 0.0526)\n",
            "Epoch 10/15: Train Loss: 0.0910, Train Acc: 97.64% | Valid Loss: 0.0578, Valid Acc: 98.50%\n",
            "Epoch 11/15: Train Loss: 0.0882, Train Acc: 97.67% | Valid Loss: 0.0513, Valid Acc: 98.53%\n",
            "  → New best model saved (Valid Loss: 0.0513)\n",
            "Epoch 12/15: Train Loss: 0.0863, Train Acc: 97.75% | Valid Loss: 0.0480, Valid Acc: 98.70%\n",
            "  → New best model saved (Valid Loss: 0.0480)\n",
            "Epoch 13/15: Train Loss: 0.0835, Train Acc: 97.78% | Valid Loss: 0.0518, Valid Acc: 98.53%\n",
            "Epoch 14/15: Train Loss: 0.0840, Train Acc: 97.77% | Valid Loss: 0.0547, Valid Acc: 98.40%\n",
            "Epoch 15/15: Train Loss: 0.0822, Train Acc: 97.75% | Valid Loss: 0.0459, Valid Acc: 98.67%\n",
            "  → New best model saved (Valid Loss: 0.0459)\n"
          ]
        }
      ]
    },
    {
      "cell_type": "code",
      "source": [
        "# Plot training history\n",
        "fig, (ax1, ax2) = plt.subplots(1, 2, figsize=(12, 4))\n",
        "\n",
        "ax1.plot(train_losses, label='Train Loss', color='blue')\n",
        "ax1.plot(valid_losses, label='Valid Loss', color='red')\n",
        "ax1.set_title('Training and Validation Loss')\n",
        "ax1.set_xlabel('Epoch')\n",
        "ax1.set_ylabel('Loss')\n",
        "ax1.legend()\n",
        "ax1.grid(True)\n",
        "\n",
        "ax2.plot(train_accuracies, label='Train Acc', color='blue')\n",
        "ax2.plot(valid_accuracies, label='Valid Acc', color='red')\n",
        "ax2.set_title('Training and Validation Accuracy')\n",
        "ax2.set_xlabel('Epoch')\n",
        "ax2.set_ylabel('Accuracy (%)')\n",
        "ax2.legend()\n",
        "ax2.grid(True)\n",
        "\n",
        "plt.tight_layout()\n",
        "plt.show()\n"
      ],
      "metadata": {
        "id": "jJI3-4Jhm4sc",
        "outputId": "d1c2200c-55cb-47be-df02-b673b4ce8a38",
        "colab": {
          "base_uri": "https://localhost:8080/",
          "height": 377
        }
      },
      "id": "jJI3-4Jhm4sc",
      "execution_count": 14,
      "outputs": [
        {
          "output_type": "display_data",
          "data": {
            "text/plain": [
              "<Figure size 1200x400 with 2 Axes>"
            ],
            "image/png": "[encoded data removed]"
          },
          "metadata": {}
        }
      ]
    },
    {
      "cell_type": "code",
      "source": [
        "# Test the model\n",
        "print(\"\\nEvaluating on test set...\")\n",
        "model.load_state_dict(torch.load('best_lenet5_model.pth'))\n",
        "test_loss, test_acc = validate_epoch(model, test_loader, criterion, device)\n",
        "print(f'Test Loss: {test_loss:.4f}, Test Accuracy: {test_acc:.2f}%')\n"
      ],
      "metadata": {
        "id": "I_DRfeOnm7NU"
      },
      "id": "I_DRfeOnm7NU",
      "execution_count": null,
      "outputs": []
    },
    {
      "cell_type": "code",
      "source": [
        "\n",
        "# Visualize predictions\n",
        "def visualize_predictions(model, test_loader, device, num_images=16):\n",
        "    \"\"\"Visualize model predictions\"\"\"\n",
        "    model.eval()\n",
        "\n",
        "    # Get a batch of test images\n",
        "    dataiter = iter(test_loader)\n",
        "    images, labels = next(dataiter)\n",
        "    images_gpu = images.to(device)\n",
        "\n",
        "    # Get predictions\n",
        "    with torch.no_grad():\n",
        "        outputs = model(images_gpu)\n",
        "        _, preds = torch.max(outputs, 1)\n",
        "\n",
        "    # Convert to CPU for visualization\n",
        "    images = images.cpu()\n",
        "    preds = preds.cpu()\n",
        "\n",
        "    # Plot\n",
        "    fig, axes = plt.subplots(2, 8, figsize=(16, 4))\n",
        "    axes = axes.ravel()\n",
        "\n",
        "    for idx in range(min(num_images, len(images))):\n",
        "        img = images[idx].squeeze()\n",
        "\n",
        "        axes[idx].imshow(img, cmap='gray')\n",
        "        axes[idx].set_title(f'Pred: {preds[idx].item()}, True: {labels[idx].item()}',\n",
        "                           color='green' if preds[idx] == labels[idx] else 'red')\n",
        "        axes[idx].axis('off')\n",
        "\n",
        "    plt.tight_layout()\n",
        "    plt.show()\n",
        "\n",
        "visualize_predictions(model, test_loader, device)"
      ],
      "metadata": {
        "id": "wjOgd988m_jL"
      },
      "id": "wjOgd988m_jL",
      "execution_count": null,
      "outputs": []
    }
  ],
  "metadata": {
    "kernelspec": {
      "display_name": "Python 3",
      "name": "python3"
    },
    "language_info": {
      "codemirror_mode": {
        "name": "ipython",
        "version": 3
      },
      "file_extension": ".py",
      "mimetype": "text/x-python",
      "name": "python",
      "nbconvert_exporter": "python",
      "pygments_lexer": "ipython3",
      "version": "3.10.9"
    },
    "colab": {
      "provenance": [],
      "gpuType": "T4",
      "include_colab_link": true
    },
    "accelerator": "GPU"
  },
  "nbformat": 4,
  "nbformat_minor": 5
}